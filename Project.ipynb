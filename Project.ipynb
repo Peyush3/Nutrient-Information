{
 "cells": [
  {
   "cell_type": "code",
   "execution_count": 19,
   "metadata": {},
   "outputs": [
    {
     "name": "stdout",
     "output_type": "stream",
     "text": [
      "Predicted food: cheeseburger\n"
     ]
    }
   ],
   "source": [
    "import torch\n",
    "from PIL import Image\n",
    "from transformers import ViTFeatureExtractor, ViTForImageClassification\n",
    "\n",
    "# Load the model and feature extractor\n",
    "feature_extractor = ViTFeatureExtractor.from_pretrained(\"google/vit-base-patch16-224\")\n",
    "model = ViTForImageClassification.from_pretrained(\"google/vit-base-patch16-224\")\n",
    "\n",
    "image=Image.open(\"image.png\")\n",
    "\n",
    "inputs = feature_extractor(images=image, return_tensors=\"pt\")\n",
    "\n",
    "outputs = model(**inputs)\n",
    "\n",
    "logits = outputs.logits\n",
    "\n",
    "predicted_class_idx = logits.argmax(-1).item()\n",
    "\n",
    "predicted_label = model.config.id2label[predicted_class_idx]\n",
    "\n",
    "food_name= predicted_label.split(\",\")[0]\n",
    "\n",
    "print(f\"Predicted food: {food_name}\")"
   ]
  },
  {
   "cell_type": "code",
   "execution_count": 20,
   "metadata": {},
   "outputs": [
    {
     "name": "stdout",
     "output_type": "stream",
     "text": [
      "[{\"name\": \"cheeseburger\", \"calories\": 275.8, \"serving_size_g\": 100.0, \"fat_total_g\": 14.3, \"fat_saturated_g\": 7.1, \"protein_g\": 15.3, \"sodium_mg\": 591, \"potassium_mg\": 180, \"cholesterol_mg\": 48, \"carbohydrates_total_g\": 19.5, \"fiber_g\": 1.2, \"sugar_g\": 3.6}]\n"
     ]
    }
   ],
   "source": [
    "import requests\n",
    "\n",
    "api_key=\"FCnGI7TjJXZxOf4osyNB3Q==YaUvL3XC9yZmKpwF\"\n",
    "query=food_name\n",
    "api_url='https://api.api-ninjas.com/v1/nutrition?query={}'.format(query)\n",
    "\n",
    "response = requests.get(api_url, headers={\"X-Api-Key\": api_key})\n",
    "\n",
    "if response.status_code == requests.codes.ok:\n",
    "    print(response.text)\n",
    "else:\n",
    "    print(\"Error:\", response.status_code, response.text)"
   ]
  },
  {
   "cell_type": "code",
   "execution_count": null,
   "metadata": {},
   "outputs": [],
   "source": []
  }
 ],
 "metadata": {
  "kernelspec": {
   "display_name": "Python 3",
   "language": "python",
   "name": "python3"
  },
  "language_info": {
   "codemirror_mode": {
    "name": "ipython",
    "version": 3
   },
   "file_extension": ".py",
   "mimetype": "text/x-python",
   "name": "python",
   "nbconvert_exporter": "python",
   "pygments_lexer": "ipython3",
   "version": "3.12.0"
  }
 },
 "nbformat": 4,
 "nbformat_minor": 2
}
